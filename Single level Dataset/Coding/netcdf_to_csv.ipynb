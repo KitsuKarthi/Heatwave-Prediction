{
 "cells": [
  {
   "cell_type": "code",
   "execution_count": 8,
   "id": "87670b14",
   "metadata": {},
   "outputs": [],
   "source": [
    "import netCDF4 as nc\n",
    "import pandas as pd\n",
    "import xarray as xr\n",
    "import os"
   ]
  },
  {
   "cell_type": "code",
   "execution_count": 13,
   "id": "d4337451",
   "metadata": {},
   "outputs": [],
   "source": [
    "pressure_to_csv = 'Pressure level Dataset\\\\'\n",
    "single_to_csv   = 'single level Dataset\\\\'"
   ]
  },
  {
   "cell_type": "code",
   "execution_count": 12,
   "id": "4e2a2afc",
   "metadata": {},
   "outputs": [
    {
     "name": "stdout",
     "output_type": "stream",
     "text": [
      "pressure_level 1979.nc has been processed to .csv\n",
      "pressure_level 1980.nc has been processed to .csv\n",
      "pressure_level 1981.nc has been processed to .csv\n",
      "pressure_level 1982.nc has been processed to .csv\n",
      "pressure_level 1983.nc has been processed to .csv\n",
      "pressure_level 1984.nc has been processed to .csv\n",
      "pressure_level 1985.nc has been processed to .csv\n",
      "pressure_level 1986.nc has been processed to .csv\n",
      "pressure_level 1987.nc has been processed to .csv\n",
      "pressure_level 1988.nc has been processed to .csv\n",
      "pressure_level 1989.nc has been processed to .csv\n",
      "pressure_level 1990.nc has been processed to .csv\n",
      "pressure_level 1991.nc has been processed to .csv\n",
      "pressure_level 1992.nc has been processed to .csv\n",
      "pressure_level 1993.nc has been processed to .csv\n",
      "pressure_level 1994.nc has been processed to .csv\n",
      "pressure_level 1995.nc has been processed to .csv\n",
      "pressure_level 1996.nc has been processed to .csv\n",
      "pressure_level 1997.nc has been processed to .csv\n",
      "pressure_level 1998.nc has been processed to .csv\n",
      "pressure_level 1999.nc has been processed to .csv\n",
      "pressure_level 2000.nc has been processed to .csv\n",
      "pressure_level 2001.nc has been processed to .csv\n",
      "pressure_level 2002.nc has been processed to .csv\n",
      "pressure_level 2003.nc has been processed to .csv\n",
      "pressure_level 2004.nc has been processed to .csv\n",
      "pressure_level 2005.nc has been processed to .csv\n",
      "pressure_level 2006.nc has been processed to .csv\n",
      "pressure_level 2007.nc has been processed to .csv\n",
      "pressure_level 2008.nc has been processed to .csv\n",
      "pressure_level 2009.nc has been processed to .csv\n",
      "pressure_level 2010.nc has been processed to .csv\n",
      "pressure_level 2011.nc has been processed to .csv\n",
      "pressure_level 2012.nc has been processed to .csv\n",
      "pressure_level 2013.nc has been processed to .csv\n",
      "pressure_level 2014.nc has been processed to .csv\n",
      "pressure_level 2015.nc has been processed to .csv\n",
      "pressure_level 2016.nc has been processed to .csv\n",
      "pressure_level 2017.nc has been processed to .csv\n",
      "pressure_level 2018.nc has been processed to .csv\n",
      "pressure_level 2019.nc has been processed to .csv\n",
      "pressure_level 2020.nc has been processed to .csv\n",
      "pressure_level 2021.nc has been processed to .csv\n",
      "pressure_level 2022.nc has been processed to .csv\n"
     ]
    }
   ],
   "source": [
    "# Set a loop to create a .csv file for each .nc file listed in `files_to_convert`\n",
    "for filename in os.listdir(pressure_to_csv):\n",
    "    ds = xr.open_dataset(pressure_to_csv + filename)\n",
    "    df = ds.to_dataframe()\n",
    "    df.to_csv(filename[:-3] + '.csv')\n",
    "    print(filename + ' has been processed to .csv')"
   ]
  },
  {
   "cell_type": "code",
   "execution_count": 14,
   "id": "9fc2ce1c",
   "metadata": {},
   "outputs": [
    {
     "name": "stdout",
     "output_type": "stream",
     "text": [
      "single_levels 1979.nc has been processed to .csv\n",
      "single_levels 1980.nc has been processed to .csv\n",
      "single_levels 1981.nc has been processed to .csv\n",
      "single_levels 1982.nc has been processed to .csv\n",
      "single_levels 1983.nc has been processed to .csv\n",
      "single_levels 1984.nc has been processed to .csv\n",
      "single_levels 1985.nc has been processed to .csv\n",
      "single_levels 1986.nc has been processed to .csv\n",
      "single_levels 1987.nc has been processed to .csv\n",
      "single_levels 1988.nc has been processed to .csv\n",
      "single_levels 1989.nc has been processed to .csv\n",
      "single_levels 1990.nc has been processed to .csv\n",
      "single_levels 1991.nc has been processed to .csv\n",
      "single_levels 1992.nc has been processed to .csv\n",
      "single_levels 1993.nc has been processed to .csv\n",
      "single_levels 1994.nc has been processed to .csv\n",
      "single_levels 1995.nc has been processed to .csv\n",
      "single_levels 1996.nc has been processed to .csv\n",
      "single_levels 1997.nc has been processed to .csv\n",
      "single_levels 1998.nc has been processed to .csv\n",
      "single_levels 1999.nc has been processed to .csv\n",
      "single_levels 2000.nc has been processed to .csv\n",
      "single_levels 2001.nc has been processed to .csv\n",
      "single_levels 2002.nc has been processed to .csv\n",
      "single_levels 2003.nc has been processed to .csv\n",
      "single_levels 2004.nc has been processed to .csv\n",
      "single_levels 2005.nc has been processed to .csv\n",
      "single_levels 2006.nc has been processed to .csv\n",
      "single_levels 2007.nc has been processed to .csv\n",
      "single_levels 2008.nc has been processed to .csv\n",
      "single_levels 2009.nc has been processed to .csv\n",
      "single_levels 2010.nc has been processed to .csv\n",
      "single_levels 2011.nc has been processed to .csv\n",
      "single_levels 2012.nc has been processed to .csv\n",
      "single_levels 2013.nc has been processed to .csv\n",
      "single_levels 2014.nc has been processed to .csv\n",
      "single_levels 2015.nc has been processed to .csv\n",
      "single_levels 2016.nc has been processed to .csv\n",
      "single_levels 2017.nc has been processed to .csv\n",
      "single_levels 2018.nc has been processed to .csv\n",
      "single_levels 2019.nc has been processed to .csv\n",
      "single_levels 2020.nc has been processed to .csv\n",
      "single_levels 2021.nc has been processed to .csv\n",
      "single_levels 2022.nc has been processed to .csv\n"
     ]
    },
    {
     "ename": "ValueError",
     "evalue": "did not find a match in any of xarray's currently installed IO backends ['netcdf4', 'scipy']. Consider explicitly selecting one of the installed engines via the ``engine`` parameter, or installing additional IO dependencies, see:\nhttps://docs.xarray.dev/en/stable/getting-started-guide/installing.html\nhttps://docs.xarray.dev/en/stable/user-guide/io.html",
     "output_type": "error",
     "traceback": [
      "\u001b[1;31m---------------------------------------------------------------------------\u001b[0m",
      "\u001b[1;31mValueError\u001b[0m                                Traceback (most recent call last)",
      "Cell \u001b[1;32mIn[14], line 3\u001b[0m\n\u001b[0;32m      1\u001b[0m \u001b[38;5;66;03m# Set a loop to create a .csv file for each .nc file listed in `files_to_convert`\u001b[39;00m\n\u001b[0;32m      2\u001b[0m \u001b[38;5;28;01mfor\u001b[39;00m filename \u001b[38;5;129;01min\u001b[39;00m os\u001b[38;5;241m.\u001b[39mlistdir(single_to_csv):\n\u001b[1;32m----> 3\u001b[0m     ds \u001b[38;5;241m=\u001b[39m \u001b[43mxr\u001b[49m\u001b[38;5;241;43m.\u001b[39;49m\u001b[43mopen_dataset\u001b[49m\u001b[43m(\u001b[49m\u001b[43msingle_to_csv\u001b[49m\u001b[43m \u001b[49m\u001b[38;5;241;43m+\u001b[39;49m\u001b[43m \u001b[49m\u001b[43mfilename\u001b[49m\u001b[43m)\u001b[49m\n\u001b[0;32m      4\u001b[0m     df \u001b[38;5;241m=\u001b[39m ds\u001b[38;5;241m.\u001b[39mto_dataframe()\n\u001b[0;32m      5\u001b[0m     df\u001b[38;5;241m.\u001b[39mto_csv(filename[:\u001b[38;5;241m-\u001b[39m\u001b[38;5;241m3\u001b[39m] \u001b[38;5;241m+\u001b[39m \u001b[38;5;124m'\u001b[39m\u001b[38;5;124m.csv\u001b[39m\u001b[38;5;124m'\u001b[39m)\n",
      "File \u001b[1;32m~\\anaconda3\\lib\\site-packages\\xarray\\backends\\api.py:523\u001b[0m, in \u001b[0;36mopen_dataset\u001b[1;34m(filename_or_obj, engine, chunks, cache, decode_cf, mask_and_scale, decode_times, decode_timedelta, use_cftime, concat_characters, decode_coords, drop_variables, inline_array, backend_kwargs, **kwargs)\u001b[0m\n\u001b[0;32m    520\u001b[0m     kwargs\u001b[38;5;241m.\u001b[39mupdate(backend_kwargs)\n\u001b[0;32m    522\u001b[0m \u001b[38;5;28;01mif\u001b[39;00m engine \u001b[38;5;129;01mis\u001b[39;00m \u001b[38;5;28;01mNone\u001b[39;00m:\n\u001b[1;32m--> 523\u001b[0m     engine \u001b[38;5;241m=\u001b[39m \u001b[43mplugins\u001b[49m\u001b[38;5;241;43m.\u001b[39;49m\u001b[43mguess_engine\u001b[49m\u001b[43m(\u001b[49m\u001b[43mfilename_or_obj\u001b[49m\u001b[43m)\u001b[49m\n\u001b[0;32m    525\u001b[0m backend \u001b[38;5;241m=\u001b[39m plugins\u001b[38;5;241m.\u001b[39mget_backend(engine)\n\u001b[0;32m    527\u001b[0m decoders \u001b[38;5;241m=\u001b[39m _resolve_decoders_kwargs(\n\u001b[0;32m    528\u001b[0m     decode_cf,\n\u001b[0;32m    529\u001b[0m     open_backend_dataset_parameters\u001b[38;5;241m=\u001b[39mbackend\u001b[38;5;241m.\u001b[39mopen_dataset_parameters,\n\u001b[1;32m   (...)\u001b[0m\n\u001b[0;32m    535\u001b[0m     decode_coords\u001b[38;5;241m=\u001b[39mdecode_coords,\n\u001b[0;32m    536\u001b[0m )\n",
      "File \u001b[1;32m~\\anaconda3\\lib\\site-packages\\xarray\\backends\\plugins.py:177\u001b[0m, in \u001b[0;36mguess_engine\u001b[1;34m(store_spec)\u001b[0m\n\u001b[0;32m    169\u001b[0m \u001b[38;5;28;01melse\u001b[39;00m:\n\u001b[0;32m    170\u001b[0m     error_msg \u001b[38;5;241m=\u001b[39m (\n\u001b[0;32m    171\u001b[0m         \u001b[38;5;124m\"\u001b[39m\u001b[38;5;124mfound the following matches with the input file in xarray\u001b[39m\u001b[38;5;124m'\u001b[39m\u001b[38;5;124ms IO \u001b[39m\u001b[38;5;124m\"\u001b[39m\n\u001b[0;32m    172\u001b[0m         \u001b[38;5;124mf\u001b[39m\u001b[38;5;124m\"\u001b[39m\u001b[38;5;124mbackends: \u001b[39m\u001b[38;5;132;01m{\u001b[39;00mcompatible_engines\u001b[38;5;132;01m}\u001b[39;00m\u001b[38;5;124m. But their dependencies may not be installed, see:\u001b[39m\u001b[38;5;130;01m\\n\u001b[39;00m\u001b[38;5;124m\"\u001b[39m\n\u001b[0;32m    173\u001b[0m         \u001b[38;5;124m\"\u001b[39m\u001b[38;5;124mhttps://docs.xarray.dev/en/stable/user-guide/io.html \u001b[39m\u001b[38;5;130;01m\\n\u001b[39;00m\u001b[38;5;124m\"\u001b[39m\n\u001b[0;32m    174\u001b[0m         \u001b[38;5;124m\"\u001b[39m\u001b[38;5;124mhttps://docs.xarray.dev/en/stable/getting-started-guide/installing.html\u001b[39m\u001b[38;5;124m\"\u001b[39m\n\u001b[0;32m    175\u001b[0m     )\n\u001b[1;32m--> 177\u001b[0m \u001b[38;5;28;01mraise\u001b[39;00m \u001b[38;5;167;01mValueError\u001b[39;00m(error_msg)\n",
      "\u001b[1;31mValueError\u001b[0m: did not find a match in any of xarray's currently installed IO backends ['netcdf4', 'scipy']. Consider explicitly selecting one of the installed engines via the ``engine`` parameter, or installing additional IO dependencies, see:\nhttps://docs.xarray.dev/en/stable/getting-started-guide/installing.html\nhttps://docs.xarray.dev/en/stable/user-guide/io.html"
     ]
    }
   ],
   "source": [
    "# Set a loop to create a .csv file for each .nc file listed in `files_to_convert`\n",
    "for filename in os.listdir(single_to_csv):\n",
    "    ds = xr.open_dataset(single_to_csv + filename)\n",
    "    df = ds.to_dataframe()\n",
    "    df.to_csv(filename[:-3] + '.csv')\n",
    "    print(filename + ' has been processed to .csv')"
   ]
  },
  {
   "cell_type": "code",
   "execution_count": null,
   "id": "dfe89d7e",
   "metadata": {},
   "outputs": [],
   "source": []
  }
 ],
 "metadata": {
  "kernelspec": {
   "display_name": "Python 3 (ipykernel)",
   "language": "python",
   "name": "python3"
  },
  "language_info": {
   "codemirror_mode": {
    "name": "ipython",
    "version": 3
   },
   "file_extension": ".py",
   "mimetype": "text/x-python",
   "name": "python",
   "nbconvert_exporter": "python",
   "pygments_lexer": "ipython3",
   "version": "3.10.9"
  }
 },
 "nbformat": 4,
 "nbformat_minor": 5
}
