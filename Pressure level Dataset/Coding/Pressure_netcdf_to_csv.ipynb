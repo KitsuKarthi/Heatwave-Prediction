{
 "cells": [
  {
   "cell_type": "code",
   "execution_count": 1,
   "id": "c9cfc948",
   "metadata": {},
   "outputs": [],
   "source": [
    "import netCDF4 as nc\n",
    "import pandas as pd\n",
    "import xarray as xr"
   ]
  },
  {
   "cell_type": "code",
   "execution_count": 2,
   "id": "8a713aeb",
   "metadata": {},
   "outputs": [],
   "source": [
    "# Replace the file name in quote by the file name of the netcdf file (.nc) you want to convert to csv\n",
    "netcdf_file_name = 'pressure_level 1979.nc'"
   ]
  },
  {
   "cell_type": "code",
   "execution_count": 5,
   "id": "37f84e32",
   "metadata": {},
   "outputs": [],
   "source": [
    "# Set variables names for the input file.nc (netcdf_file_in) and the output file.csv (`csv_file_out`)\n",
    "netcdf_file_in = netcdf_file_name\n",
    "csv_file_out = netcdf_file_name[:-3] + '.csv'"
   ]
  },
  {
   "cell_type": "code",
   "execution_count": 13,
   "id": "fb13d4ae",
   "metadata": {},
   "outputs": [],
   "source": [
    "ds = xr.open_dataset('raw-data\\pressure_level 1979.nc')\n",
    "df = ds.to_dataframe()\n",
    "\n",
    "df.to_csv(csv_file_out)"
   ]
  }
 ],
 "metadata": {
  "kernelspec": {
   "display_name": "Python 3 (ipykernel)",
   "language": "python",
   "name": "python3"
  },
  "language_info": {
   "codemirror_mode": {
    "name": "ipython",
    "version": 3
   },
   "file_extension": ".py",
   "mimetype": "text/x-python",
   "name": "python",
   "nbconvert_exporter": "python",
   "pygments_lexer": "ipython3",
   "version": "3.10.9"
  }
 },
 "nbformat": 4,
 "nbformat_minor": 5
}
